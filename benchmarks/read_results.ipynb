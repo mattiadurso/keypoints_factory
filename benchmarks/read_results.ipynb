{
 "cells": [
  {
   "cell_type": "code",
   "execution_count": null,
   "id": "45e5cbf8",
   "metadata": {},
   "outputs": [],
   "source": [
    "%load_ext autoreload\n",
    "%autoreload 2"
   ]
  },
  {
   "cell_type": "markdown",
   "id": "97215b40",
   "metadata": {},
   "source": [
    "## Image Matching Challenge (PhotoTourism)"
   ]
  },
  {
   "cell_type": "code",
   "execution_count": null,
   "id": "69601fb3",
   "metadata": {},
   "outputs": [],
   "source": [
    "from imc.imc_benchmark_utils import load_imc_results\n",
    "\n",
    "scene_set = \"val\"  # or \"val\"\n",
    "df = load_imc_results(f\"imc/results/{scene_set}\", return_df=True, all_scenes=False, auc_th=5)\n",
    "print(len(df), \"rows loaded\")\n",
    "# For each (method, custom_desc), get the row with the highest all_auc5, keeping all columns\n",
    "idx = df.groupby([\"method\", \"custom_desc\"])[\"all_auc5\"].idxmax()\n",
    "df_grouped = df.loc[idx].reset_index(drop=True)\n",
    "df_grouped = df_grouped.sort_values(by=[\"all_auc5\"], ascending=False)\n",
    "\n",
    "df_grouped.head(11)  # Show all 11 methods"
   ]
  },
  {
   "cell_type": "code",
   "execution_count": null,
   "id": "534c27f5",
   "metadata": {},
   "outputs": [],
   "source": [
    "import math\n",
    "import matplotlib.pyplot as plt\n",
    "\n",
    "if scene_set == \"val\":\n",
    "    metric = \"all_auc5\"\n",
    "    df_plot = df.copy()\n",
    "    df_plot = df_plot.sort_values(by=[\"method\", \"custom_desc\", metric], ascending=[True, True, True])\n",
    "\n",
    "    methods = df_plot['method'].unique()\n",
    "    n_methods = len(methods)\n",
    "    n_cols = 3\n",
    "    n_rows = math.ceil(n_methods / n_cols)\n",
    "\n",
    "    fig, axes = plt.subplots(n_rows, n_cols, figsize=(6 * n_cols, 4 * n_rows), squeeze=False)\n",
    "    axes = axes.flatten()\n",
    "\n",
    "    for i, method in enumerate(methods):\n",
    "        ax = axes[i]\n",
    "        df_method = df_plot[df_plot['method'] == method]\n",
    "        # Group by custom_desc (e.g., '', 'SANDesc', 'G', etc.)\n",
    "        for custom_desc, df_variant in df_method.groupby('custom_desc'):\n",
    "            label = method if custom_desc == '' else f\"{method} + {custom_desc}\"\n",
    "            x_vals = range(len(df_variant))\n",
    "            y_vals = df_variant[metric].values\n",
    "            marker = 'o' if custom_desc == '' else 's'\n",
    "            linestyle = '-' if custom_desc == '' else '--'\n",
    "            ax.plot(x_vals, y_vals, label=label, marker=marker, linestyle=linestyle, linewidth=2)\n",
    "            for x, y, idx in zip(x_vals, y_vals, df_variant.index):\n",
    "                ax.annotate(str(idx), (x, y), textcoords=\"offset points\", xytext=(0,10), ha='center', fontsize=10)\n",
    "\n",
    "        ax.set_title(method)\n",
    "        ax.set_xlabel(\"\")\n",
    "        ax.set_xticks([])\n",
    "        ax.set_ylabel(metric)\n",
    "        ax.legend(loc='best')\n",
    "        ax.grid(True, alpha=0.3)\n",
    "        ax.set_ylim(df_plot[metric].min() - 1, df_plot[metric].max() + 5)\n",
    "\n",
    "    # Hide unused subplots\n",
    "    for j in range(i + 1, len(axes)):\n",
    "        fig.delaxes(axes[j])\n",
    "\n",
    "    plt.tight_layout()\n",
    "    plt.suptitle(f\"IMC Benchmark - {metric} on {scene_set} set\", y=1.02, fontsize=16)\n",
    "    plt.show()"
   ]
  },
  {
   "cell_type": "markdown",
   "id": "bc5b2118",
   "metadata": {},
   "source": [
    "## HPatches"
   ]
  },
  {
   "cell_type": "code",
   "execution_count": null,
   "id": "10d54b56",
   "metadata": {},
   "outputs": [],
   "source": [
    "from hpatches.hpatches_benchmark_utils import display_hpatches_results\n",
    "\n",
    "print(\"===== HPatches Overall Results =====\")\n",
    "df = display_hpatches_results(partition='overall', ths=[1, 2, 3], tostring=False)  # Display results for thresholds 1, 2, and 3\n",
    "df[[col for col in df.columns if \"Rep\" not in col]]"
   ]
  },
  {
   "cell_type": "markdown",
   "id": "319e12a6",
   "metadata": {},
   "source": [
    "## Megadepth-1500"
   ]
  },
  {
   "cell_type": "code",
   "execution_count": null,
   "id": "10e2dcc0",
   "metadata": {},
   "outputs": [],
   "source": [
    "import os\n",
    "import pandas as pd\n",
    "\n",
    "results = 'megadepth1500/results/results_paper.json'\n",
    "if not os.path.exists(results):\n",
    "    raise FileNotFoundError(f\"Results file not found: {results}. First run the benchmark!\")\n",
    "\n",
    "df = pd.read_json(results).T.round(3)\n",
    "df['inlier'] = round(df['inlier']).astype(int)\n",
    "df['auc_5'] *= 100\n",
    "df['auc_10'] *= 100\n",
    "df['model'] = df.index.str.split(' ').str[0]\n",
    "df['params'] = df.index.str.split(' ').str[1]\n",
    "df['budget'] = df.index.str.split(' ').str[2]\n",
    "df['note'] = df.index.str.split(' ').str[3]\n",
    "df['timestamp'] = df.index.str.split(' ').str[-1]\n",
    "\n",
    "# # filter\n",
    "# df = df[\n",
    "#     df['model'].str.contains('dedode') \n",
    "#     & ~df['note'].str.contains('None')\n",
    "# ] # comment to display all budgets \n",
    "\n",
    "df = df[['model',  'budget', 'inlier', 'auc_5', 'auc_10', 'note', 'timestamp']]\n",
    "df.sort_values(by=['budget', 'model'], inplace=True, ascending=[True, True])\n",
    "df.index = range(1, 1+len(df.index))\n",
    "df"
   ]
  },
  {
   "cell_type": "markdown",
   "id": "9e834265",
   "metadata": {},
   "source": [
    "## Graz High Resolution"
   ]
  },
  {
   "cell_type": "code",
   "execution_count": null,
   "id": "22bf40f9",
   "metadata": {},
   "outputs": [],
   "source": [
    "scale_factors = {'scale_1.0': '4K', 'scale_1.5': 'QHD', 'scale_2.0': 'FHD'}\n",
    "\n",
    "results = 'graz_high_res/results/results_paper.json'\n",
    "if not os.path.exists(results):\n",
    "    raise FileNotFoundError(f\"Results file not found: {results}. First run the benchmark!\")\n",
    "\n",
    "df = pd.read_json(results).T.round(3)\n",
    "df['inlier'] = round(df['inlier']).astype(int)\n",
    "df['auc_5'] *= 100\n",
    "df['auc_10'] *= 100\n",
    "df['model'] = df.index.str.split(' ').str[0]\n",
    "df['params'] = df.index.str.split(' ').str[1]\n",
    "df['resolution'] = [scale_factors[s] for s in df.index.str.split(' ').str[2]]\n",
    "df['budget'] = df.index.str.split(' ').str[3]\n",
    "df['timestamp'] = df.index.str.split(' ').str[-1]\n",
    "\n",
    "# filter\n",
    "# df = df[df['resolution'].str.contains('FHD')] # comment to display all resolutions\n",
    "\n",
    "df_auc = df[['model', 'budget', 'resolution', 'inlier', 'auc_5', 'auc_10', 'timestamp']].copy()\n",
    "df_auc.sort_values(by=['resolution', 'model'], inplace=True, ascending=[False, True])\n",
    "df_auc.index = range(1, 1+len(df_auc.index))\n",
    "df_auc # there should be 11 elements for FHD, and 9 for QHD and 4K"
   ]
  },
  {
   "cell_type": "markdown",
   "id": "65406ecf",
   "metadata": {},
   "source": [
    "### Scenes breakdown\n",
    "\n",
    "Run this after running the benchmark, otherwise no statistics are available."
   ]
  },
  {
   "cell_type": "code",
   "execution_count": null,
   "id": "c20f6f16",
   "metadata": {},
   "outputs": [],
   "source": [
    "import json\n",
    "from benchmark_utils import pose_auc\n",
    "\n",
    "with open('graz_high_res/results/results_paper.json', 'r') as f:\n",
    "    data = json.load(f)\n",
    "    \n",
    "keys = list(data.keys())\n",
    "auc_th = 5\n",
    "scale = 1 # 1, 1.5, 2\n",
    "\n",
    "breakdown, total = {}, {}\n",
    "for key in keys:\n",
    "    parts = key.split(' ')\n",
    "    key = f'{parts[0]}_stats_scale_{float(scale)}_{parts[4]}_{parts[6]}'\n",
    "    model = parts[0]\n",
    "\n",
    "    try:\n",
    "        os.path.exists(f'graz_high_res/stats/{key}.csv')\n",
    "        df = pd.read_csv(f'graz_high_res/stats/{key}.csv')\n",
    "    except FileNotFoundError:\n",
    "        continue\n",
    "\n",
    "    scenes = df.scene_name.unique()\n",
    "    total[model] = round(pose_auc(df.e_pose, [auc_th])[0] * 100,1)\n",
    "\n",
    "    for scene in scenes:\n",
    "        scene_df = df[df.scene_name == scene]\n",
    "        if scene not in breakdown:\n",
    "            breakdown[scene] = {}\n",
    "        breakdown[scene][model] = round(pose_auc(scene_df.e_pose, [auc_th])[0] * 100,1)\n",
    "\n",
    "breakdown['total'] = total"
   ]
  },
  {
   "cell_type": "code",
   "execution_count": null,
   "id": "068001c2",
   "metadata": {},
   "outputs": [],
   "source": [
    "df_breakdown = pd.DataFrame.from_dict(breakdown, orient='index').T\n",
    "df_breakdown"
   ]
  }
 ],
 "metadata": {
  "kernelspec": {
   "display_name": "keypoint_factory",
   "language": "python",
   "name": "python3"
  },
  "language_info": {
   "codemirror_mode": {
    "name": "ipython",
    "version": 3
   },
   "file_extension": ".py",
   "mimetype": "text/x-python",
   "name": "python",
   "nbconvert_exporter": "python",
   "pygments_lexer": "ipython3",
   "version": "3.10.16"
  }
 },
 "nbformat": 4,
 "nbformat_minor": 5
}
